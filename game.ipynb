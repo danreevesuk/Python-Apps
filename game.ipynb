{
 "cells": [
  {
   "cell_type": "code",
   "execution_count": 16,
   "metadata": {},
   "outputs": [
    {
     "name": "stdout",
     "output_type": "stream",
     "text": [
      "Enter Rock, Paper, Scissor: rock\n",
      "Computer Choose: paper\n",
      "Computer Wins!\n",
      "You 0 Computer 1\n",
      "Enter Rock, Paper, Scissor: paper\n",
      "Computer Choose: scissor\n",
      "Computer Wins!\n",
      "You 0 Computer 2\n",
      "Enter Rock, Paper, Scissor: rock\n",
      "Computer Choose: scissor\n",
      "You Wins!\n",
      "You 1 Computer 2\n",
      "Enter Rock, Paper, Scissor: quit\n",
      "Total Score\n",
      " ^You^ = 1 *Computer* = 2\n",
      "Computer Won the Game!\n",
      "Good Bye\n"
     ]
    }
   ],
   "source": [
    "yscore = 0\n",
    "cscore = 0\n",
    "while True:\n",
    "    import random\n",
    "    computer_choice = [\"paper\",\"scissor\",\"rock\"]\n",
    "    computer = random.choice(computer_choice)\n",
    "    \n",
    "    \n",
    "    player = input(\"Enter Rock, Paper, Scissor: \")\n",
    "    player = player.lower()\n",
    "\n",
    "    if player == computer:\n",
    "        print(\"Computer Choose:\",computer)\n",
    "        print(\"Draw\")\n",
    "        yscore = yscore+0\n",
    "        cscore = cscore+0\n",
    "        print(\"You\",yscore,\"Computer\",cscore)\n",
    "    elif player == \"rock\" and computer == \"paper\":\n",
    "        print(\"Computer Choose:\",computer)\n",
    "        print(\"Computer Wins!\")\n",
    "        yscore = yscore+0\n",
    "        cscore = cscore+1\n",
    "        print(\"You\",yscore,\"Computer\",cscore)\n",
    "    elif player == \"paper\" and computer == \"rock\":\n",
    "        print(\"Computer Choose:\",computer)\n",
    "        print(\"You Win!\")\n",
    "        yscore = yscore+1\n",
    "        cscore = cscore+0\n",
    "        print(\"You\",yscore,\"Computer\",cscore)\n",
    "    elif player == \"rock\" and computer == \"scissor\":\n",
    "        print(\"Computer Choose:\",computer)\n",
    "        print(\"You Wins!\")\n",
    "        yscore = yscore+1\n",
    "        cscore = cscore+0\n",
    "        print(\"You\",yscore,\"Computer\",cscore)\n",
    "    elif player == \"scissor\" and computer == \"rock\":\n",
    "        print(\"Computer Choose:\",computer)\n",
    "        print(\"Computer Wins!\")\n",
    "        yscore = yscore+0\n",
    "        cscore = cscore+1\n",
    "        print(\"You\",yscore,\"Computer\",cscore)\n",
    "    elif player == \"paper\" and computer == \"scissor\":\n",
    "        print(\"Computer Choose:\",computer)\n",
    "        print(\"Computer Wins!\")\n",
    "        yscore = yscore+0\n",
    "        cscore = cscore+1\n",
    "        print(\"You\",yscore,\"Computer\",cscore)\n",
    "    elif player == \"scissor\" and computer == \"paper\":\n",
    "        print(\"Computer Choose:\",computer)\n",
    "        print(\"You Win!\")\n",
    "        yscore = yscore+1\n",
    "        cscore = cscore+0\n",
    "        print(\"You\",yscore,\"Computer\",cscore)\n",
    "    elif player == \"quit\":\n",
    "        print(\"Total Score\\n\",\"^You^ =\",yscore,\"*Computer* =\",cscore)\n",
    "        if cscore>yscore:\n",
    "            print(\"Computer Won the Game!\")\n",
    "        elif cscore<yscore:\n",
    "            print(\"You Won the Game!\")\n",
    "        elif cscore==yscore:\n",
    "            print(\"Game Draw!\")\n",
    "        print(\"Good Bye\")\n",
    "        break    \n",
    "    else:\n",
    "        print(\"enter correct choice\")\n",
    "    \n",
    "    "
   ]
  },
  {
   "cell_type": "code",
   "execution_count": null,
   "metadata": {},
   "outputs": [],
   "source": []
  },
  {
   "cell_type": "code",
   "execution_count": null,
   "metadata": {},
   "outputs": [],
   "source": []
  },
  {
   "cell_type": "code",
   "execution_count": null,
   "metadata": {},
   "outputs": [],
   "source": []
  },
  {
   "cell_type": "code",
   "execution_count": null,
   "metadata": {},
   "outputs": [],
   "source": [
    "\n",
    "\n",
    "\n"
   ]
  },
  {
   "cell_type": "code",
   "execution_count": null,
   "metadata": {},
   "outputs": [],
   "source": []
  },
  {
   "cell_type": "code",
   "execution_count": null,
   "metadata": {},
   "outputs": [],
   "source": []
  },
  {
   "cell_type": "code",
   "execution_count": null,
   "metadata": {},
   "outputs": [],
   "source": [
    "\n",
    "\n"
   ]
  },
  {
   "cell_type": "code",
   "execution_count": null,
   "metadata": {},
   "outputs": [],
   "source": []
  },
  {
   "cell_type": "code",
   "execution_count": null,
   "metadata": {},
   "outputs": [],
   "source": []
  },
  {
   "cell_type": "code",
   "execution_count": null,
   "metadata": {},
   "outputs": [],
   "source": []
  }
 ],
 "metadata": {
  "kernelspec": {
   "display_name": "Python 3",
   "language": "python",
   "name": "python3"
  },
  "language_info": {
   "codemirror_mode": {
    "name": "ipython",
    "version": 3
   },
   "file_extension": ".py",
   "mimetype": "text/x-python",
   "name": "python",
   "nbconvert_exporter": "python",
   "pygments_lexer": "ipython3",
   "version": "3.7.4"
  }
 },
 "nbformat": 4,
 "nbformat_minor": 2
}
