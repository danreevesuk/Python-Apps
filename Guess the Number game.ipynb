{
 "cells": [
  {
   "cell_type": "code",
   "execution_count": 2,
   "metadata": {},
   "outputs": [
    {
     "name": "stdout",
     "output_type": "stream",
     "text": [
      "Guess a Number Between 1 To 30: 1\n",
      "Hint:Try Greater!\n",
      "Second Chance: 2\n",
      "Hint:Try Greater!\n",
      "Third Chance: 3\n",
      "Better Luck Next Time!\n",
      "Random Number was:  7\n"
     ]
    }
   ],
   "source": [
    "num = int(input(\"Guess a Number Between 1 To 30: \")) \n",
    "import random\n",
    "for x in range(1):\n",
    "        guess = random.randint(1,30)\n",
    "        if num == guess:\n",
    "            print(\"You Win!\")\n",
    "        elif num > guess:\n",
    "            print(\"Hint:Try Smallerr!\")\n",
    "            a = int(input(\"Second Chance: \"))\n",
    "            if a == guess:\n",
    "                print(\"You Win!\")\n",
    "            elif a > guess:\n",
    "                print(\"Hint:Try Smallerr!\")\n",
    "                b = int(input(\"Third Chance: \"))\n",
    "                if b == guess:\n",
    "                    print(\"You Win!\")\n",
    "                else:\n",
    "                    print(\"Better Luck Next Time!\")    \n",
    "        elif num < guess:\n",
    "            print(\"Hint:Try Greater!\")\n",
    "        \n",
    "            a = int(input(\"Second Chance: \"))\n",
    "            if a == guess:\n",
    "                print(\"You Win!\")\n",
    "            elif a < guess:\n",
    "                print(\"Hint:Try Greater!\")\n",
    "                b = int(input(\"Third Chance: \"))\n",
    "                if b == guess:\n",
    "                    print(\"You Win!\")\n",
    "        \n",
    "                else:\n",
    "                    print(\"Better Luck Next Time!\")\n",
    "print(\"Random Number was: \",guess)        "
   ]
  },
  {
   "cell_type": "code",
   "execution_count": null,
   "metadata": {},
   "outputs": [],
   "source": []
  }
 ],
 "metadata": {
  "kernelspec": {
   "display_name": "Python 3",
   "language": "python",
   "name": "python3"
  },
  "language_info": {
   "codemirror_mode": {
    "name": "ipython",
    "version": 3
   },
   "file_extension": ".py",
   "mimetype": "text/x-python",
   "name": "python",
   "nbconvert_exporter": "python",
   "pygments_lexer": "ipython3",
   "version": "3.7.4"
  }
 },
 "nbformat": 4,
 "nbformat_minor": 2
}
